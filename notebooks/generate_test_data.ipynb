{
 "cells": [
  {
   "cell_type": "code",
   "execution_count": 87,
   "id": "initial_id",
   "metadata": {
    "collapsed": true,
    "ExecuteTime": {
     "end_time": "2023-09-28T19:47:59.977614Z",
     "start_time": "2023-09-28T19:47:59.970491Z"
    }
   },
   "outputs": [],
   "source": [
    "import pandas as pd\n",
    "import random\n",
    "import names\n",
    "import numpy as np"
   ]
  },
  {
   "cell_type": "code",
   "execution_count": 88,
   "outputs": [
    {
     "data": {
      "text/plain": "0.9851514570316444"
     },
     "execution_count": 88,
     "metadata": {},
     "output_type": "execute_result"
    }
   ],
   "source": [
    "# random.randrange(10,50)\n",
    "rng = np.random.default_rng()\n",
    "rng.standard_normal()"
   ],
   "metadata": {
    "collapsed": false,
    "ExecuteTime": {
     "end_time": "2023-09-28T19:47:59.977898Z",
     "start_time": "2023-09-28T19:47:59.975079Z"
    }
   },
   "id": "8af12ecb1a7fb033"
  },
  {
   "cell_type": "code",
   "execution_count": 89,
   "outputs": [
    {
     "data": {
      "text/plain": "                 id first_name    last_name  age  is_smoker  is_sick\n0   absif2ccdiej3mn    Suzanne        Krieg   31      False        0\n1   lrqte8ct5gqa1yk    Charles    Gillespie   32      False        0\n2   00ll380zbrw5n99    Melynda         Holt   28      False        0\n3   6qui1e46i6mmzww         Jo       Wendte   32      False        0\n4   5mocwr0kioa70ai       Toni        Hisey   24       True        0\n..              ...        ...          ...  ...        ...      ...\n75  50o2x7vyqdoxsp6  Stephanie        Scott   30      False        0\n76  wldz0ced5svcivo    Deborah    Mcgroarty   34       True        0\n77  j0neiox9x4586as     Willie  Degenfelder   28       True        0\n78  tq97wrkkc993g6l      Janet    Mctiernan   24      False        0\n79  wjysheth6ekftg9    William       Mignot   34      False        0\n\n[80 rows x 6 columns]",
      "text/html": "<div>\n<style scoped>\n    .dataframe tbody tr th:only-of-type {\n        vertical-align: middle;\n    }\n\n    .dataframe tbody tr th {\n        vertical-align: top;\n    }\n\n    .dataframe thead th {\n        text-align: right;\n    }\n</style>\n<table border=\"1\" class=\"dataframe\">\n  <thead>\n    <tr style=\"text-align: right;\">\n      <th></th>\n      <th>id</th>\n      <th>first_name</th>\n      <th>last_name</th>\n      <th>age</th>\n      <th>is_smoker</th>\n      <th>is_sick</th>\n    </tr>\n  </thead>\n  <tbody>\n    <tr>\n      <th>0</th>\n      <td>absif2ccdiej3mn</td>\n      <td>Suzanne</td>\n      <td>Krieg</td>\n      <td>31</td>\n      <td>False</td>\n      <td>0</td>\n    </tr>\n    <tr>\n      <th>1</th>\n      <td>lrqte8ct5gqa1yk</td>\n      <td>Charles</td>\n      <td>Gillespie</td>\n      <td>32</td>\n      <td>False</td>\n      <td>0</td>\n    </tr>\n    <tr>\n      <th>2</th>\n      <td>00ll380zbrw5n99</td>\n      <td>Melynda</td>\n      <td>Holt</td>\n      <td>28</td>\n      <td>False</td>\n      <td>0</td>\n    </tr>\n    <tr>\n      <th>3</th>\n      <td>6qui1e46i6mmzww</td>\n      <td>Jo</td>\n      <td>Wendte</td>\n      <td>32</td>\n      <td>False</td>\n      <td>0</td>\n    </tr>\n    <tr>\n      <th>4</th>\n      <td>5mocwr0kioa70ai</td>\n      <td>Toni</td>\n      <td>Hisey</td>\n      <td>24</td>\n      <td>True</td>\n      <td>0</td>\n    </tr>\n    <tr>\n      <th>...</th>\n      <td>...</td>\n      <td>...</td>\n      <td>...</td>\n      <td>...</td>\n      <td>...</td>\n      <td>...</td>\n    </tr>\n    <tr>\n      <th>75</th>\n      <td>50o2x7vyqdoxsp6</td>\n      <td>Stephanie</td>\n      <td>Scott</td>\n      <td>30</td>\n      <td>False</td>\n      <td>0</td>\n    </tr>\n    <tr>\n      <th>76</th>\n      <td>wldz0ced5svcivo</td>\n      <td>Deborah</td>\n      <td>Mcgroarty</td>\n      <td>34</td>\n      <td>True</td>\n      <td>0</td>\n    </tr>\n    <tr>\n      <th>77</th>\n      <td>j0neiox9x4586as</td>\n      <td>Willie</td>\n      <td>Degenfelder</td>\n      <td>28</td>\n      <td>True</td>\n      <td>0</td>\n    </tr>\n    <tr>\n      <th>78</th>\n      <td>tq97wrkkc993g6l</td>\n      <td>Janet</td>\n      <td>Mctiernan</td>\n      <td>24</td>\n      <td>False</td>\n      <td>0</td>\n    </tr>\n    <tr>\n      <th>79</th>\n      <td>wjysheth6ekftg9</td>\n      <td>William</td>\n      <td>Mignot</td>\n      <td>34</td>\n      <td>False</td>\n      <td>0</td>\n    </tr>\n  </tbody>\n</table>\n<p>80 rows × 6 columns</p>\n</div>"
     },
     "execution_count": 89,
     "metadata": {},
     "output_type": "execute_result"
    }
   ],
   "source": [
    "######################################\n",
    "# Create a dataframe of healthy people\n",
    "#######################################\n",
    "\n",
    "#number of obs\n",
    "N = 80\n",
    "\n",
    "# id variable setup\n",
    "alphabet = st.ascii_lowercase + st.digits\n",
    "def random_id():\n",
    "    return ''.join(random.choices(alphabet, k=15))\n",
    "\n",
    "# age variable setup\n",
    "mean_age = 30\n",
    "std_age = 5\n",
    "age_lower_bound = 18\n",
    "\n",
    "# smoker variable setup\n",
    "proportion_are_smokers = 0.2\n",
    "\n",
    "# Database Instantiation\n",
    "########################\n",
    "\n",
    "random_data = {\n",
    "    \"id\": [random_id() for _ in range(N)],\n",
    "    \"first_name\": [names.get_first_name() for _ in range(N)],\n",
    "    \"last_name\": [names.get_last_name() for _ in range(N)],\n",
    "    \"donation_amount_cents\" \n",
    "    # normal distribution of integer ages centered on healthy_mean_age, lower bound 18.\n",
    "    \"age\": [max(math.floor(random.gauss(mean_age, std_age)),age_lower_bound) for _ in range(N)],\n",
    "    \"is_smoker\": [random.random() < proportion_are_smokers for _ in range(N)],\n",
    "    \"is_sick\": [0 for _ in range(N)]\n",
    "}\n",
    "healthy_df = pd.DataFrame(random_data)\n",
    "healthy_df"
   ],
   "metadata": {
    "collapsed": false,
    "ExecuteTime": {
     "end_time": "2023-09-28T19:48:00.163925Z",
     "start_time": "2023-09-28T19:47:59.980598Z"
    }
   },
   "id": "6bdcbae3651db63"
  },
  {
   "cell_type": "code",
   "execution_count": 90,
   "outputs": [
    {
     "data": {
      "text/plain": "                 id first_name  last_name  age  is_smoker  is_sick\n0   4p06ak55hz620b1     Dennis     Bohnen   58      False        1\n1   i413efxlk01bapo       Eric   Braswell   41       True        1\n2   uw6rpbqh192k3xq    Lillian  Henderson   58      False        1\n3   xfj283ia7klk05e        Kim    Ludwick   59       True        1\n4   izxihvpozn4ymnq     Jessie     Bowles   54      False        1\n5   gm8yp2cvd9h9d9j   Courtney    Sirmans   54      False        1\n6   7ino4cr1rr0iovi     Thomas     Milian   45      False        1\n7   vvpqxrqk0v4gz08     Audrey     Martin   60      False        1\n8   479xuwiultbyilq   Gertrude       Wong   55       True        1\n9   yfiqinmvji8joon       Judy  Robertson   54       True        1\n10  6iunewme2d4n8pc     Sharon    Merrill   53      False        1\n11  y30l1t82matv0eq      Henry   Robinson   44      False        1\n12  vpfrgh2picn7kp8   Elfriede    Tisdale   51       True        1\n13  zzulokrwg73zlx3     Rhonda     Schanz   51       True        1\n14  w6a76wz3idvu7mb      Paula  Patterson   45      False        1\n15  6wk41aum22g2vwn   Lawrence      Kruse   50       True        1\n16  hspgov89a4k3tfy      Maria   Hartmann   51      False        1\n17  8daz0eqk21y2foi    Rosella    Switzer   53      False        1\n18  b4twxi8j1f4lc8j       Neil    Gossett   46       True        1\n19  4hytmawq20dpt68        Ida     Chasse   40       True        1",
      "text/html": "<div>\n<style scoped>\n    .dataframe tbody tr th:only-of-type {\n        vertical-align: middle;\n    }\n\n    .dataframe tbody tr th {\n        vertical-align: top;\n    }\n\n    .dataframe thead th {\n        text-align: right;\n    }\n</style>\n<table border=\"1\" class=\"dataframe\">\n  <thead>\n    <tr style=\"text-align: right;\">\n      <th></th>\n      <th>id</th>\n      <th>first_name</th>\n      <th>last_name</th>\n      <th>age</th>\n      <th>is_smoker</th>\n      <th>is_sick</th>\n    </tr>\n  </thead>\n  <tbody>\n    <tr>\n      <th>0</th>\n      <td>4p06ak55hz620b1</td>\n      <td>Dennis</td>\n      <td>Bohnen</td>\n      <td>58</td>\n      <td>False</td>\n      <td>1</td>\n    </tr>\n    <tr>\n      <th>1</th>\n      <td>i413efxlk01bapo</td>\n      <td>Eric</td>\n      <td>Braswell</td>\n      <td>41</td>\n      <td>True</td>\n      <td>1</td>\n    </tr>\n    <tr>\n      <th>2</th>\n      <td>uw6rpbqh192k3xq</td>\n      <td>Lillian</td>\n      <td>Henderson</td>\n      <td>58</td>\n      <td>False</td>\n      <td>1</td>\n    </tr>\n    <tr>\n      <th>3</th>\n      <td>xfj283ia7klk05e</td>\n      <td>Kim</td>\n      <td>Ludwick</td>\n      <td>59</td>\n      <td>True</td>\n      <td>1</td>\n    </tr>\n    <tr>\n      <th>4</th>\n      <td>izxihvpozn4ymnq</td>\n      <td>Jessie</td>\n      <td>Bowles</td>\n      <td>54</td>\n      <td>False</td>\n      <td>1</td>\n    </tr>\n    <tr>\n      <th>5</th>\n      <td>gm8yp2cvd9h9d9j</td>\n      <td>Courtney</td>\n      <td>Sirmans</td>\n      <td>54</td>\n      <td>False</td>\n      <td>1</td>\n    </tr>\n    <tr>\n      <th>6</th>\n      <td>7ino4cr1rr0iovi</td>\n      <td>Thomas</td>\n      <td>Milian</td>\n      <td>45</td>\n      <td>False</td>\n      <td>1</td>\n    </tr>\n    <tr>\n      <th>7</th>\n      <td>vvpqxrqk0v4gz08</td>\n      <td>Audrey</td>\n      <td>Martin</td>\n      <td>60</td>\n      <td>False</td>\n      <td>1</td>\n    </tr>\n    <tr>\n      <th>8</th>\n      <td>479xuwiultbyilq</td>\n      <td>Gertrude</td>\n      <td>Wong</td>\n      <td>55</td>\n      <td>True</td>\n      <td>1</td>\n    </tr>\n    <tr>\n      <th>9</th>\n      <td>yfiqinmvji8joon</td>\n      <td>Judy</td>\n      <td>Robertson</td>\n      <td>54</td>\n      <td>True</td>\n      <td>1</td>\n    </tr>\n    <tr>\n      <th>10</th>\n      <td>6iunewme2d4n8pc</td>\n      <td>Sharon</td>\n      <td>Merrill</td>\n      <td>53</td>\n      <td>False</td>\n      <td>1</td>\n    </tr>\n    <tr>\n      <th>11</th>\n      <td>y30l1t82matv0eq</td>\n      <td>Henry</td>\n      <td>Robinson</td>\n      <td>44</td>\n      <td>False</td>\n      <td>1</td>\n    </tr>\n    <tr>\n      <th>12</th>\n      <td>vpfrgh2picn7kp8</td>\n      <td>Elfriede</td>\n      <td>Tisdale</td>\n      <td>51</td>\n      <td>True</td>\n      <td>1</td>\n    </tr>\n    <tr>\n      <th>13</th>\n      <td>zzulokrwg73zlx3</td>\n      <td>Rhonda</td>\n      <td>Schanz</td>\n      <td>51</td>\n      <td>True</td>\n      <td>1</td>\n    </tr>\n    <tr>\n      <th>14</th>\n      <td>w6a76wz3idvu7mb</td>\n      <td>Paula</td>\n      <td>Patterson</td>\n      <td>45</td>\n      <td>False</td>\n      <td>1</td>\n    </tr>\n    <tr>\n      <th>15</th>\n      <td>6wk41aum22g2vwn</td>\n      <td>Lawrence</td>\n      <td>Kruse</td>\n      <td>50</td>\n      <td>True</td>\n      <td>1</td>\n    </tr>\n    <tr>\n      <th>16</th>\n      <td>hspgov89a4k3tfy</td>\n      <td>Maria</td>\n      <td>Hartmann</td>\n      <td>51</td>\n      <td>False</td>\n      <td>1</td>\n    </tr>\n    <tr>\n      <th>17</th>\n      <td>8daz0eqk21y2foi</td>\n      <td>Rosella</td>\n      <td>Switzer</td>\n      <td>53</td>\n      <td>False</td>\n      <td>1</td>\n    </tr>\n    <tr>\n      <th>18</th>\n      <td>b4twxi8j1f4lc8j</td>\n      <td>Neil</td>\n      <td>Gossett</td>\n      <td>46</td>\n      <td>True</td>\n      <td>1</td>\n    </tr>\n    <tr>\n      <th>19</th>\n      <td>4hytmawq20dpt68</td>\n      <td>Ida</td>\n      <td>Chasse</td>\n      <td>40</td>\n      <td>True</td>\n      <td>1</td>\n    </tr>\n  </tbody>\n</table>\n</div>"
     },
     "execution_count": 90,
     "metadata": {},
     "output_type": "execute_result"
    }
   ],
   "source": [
    "#Create values for 20 sick people with a different distribution.\n",
    "N = 20\n",
    "sick_mean_age = 50\n",
    "proportion_sick_smokers = 0.4\n",
    "sick_data = {\n",
    "    \"id\": [random_id() for _ in range(N)],\n",
    "    \"first_name\": [names.get_first_name() for _ in range(N)],\n",
    "    \"last_name\": [names.get_last_name() for _ in range(N)],\n",
    "    # normal distribution of integer ages centered on sick_mean_age, lower bound 18.\n",
    "    \"age\": [max(math.floor(random.gauss(sick_mean_age, std_age)),age_lower_bound) for _ in range(N)],\n",
    "    \"is_smoker\": [random.random() < proportion_sick_smokers for _ in range(N)],\n",
    "    \"is_sick\": [1 for _ in range(N)]\n",
    "}\n",
    "sick_df = pd.DataFrame(sick_data)\n",
    "sick_df"
   ],
   "metadata": {
    "collapsed": false,
    "ExecuteTime": {
     "end_time": "2023-09-28T19:48:00.211472Z",
     "start_time": "2023-09-28T19:48:00.162393Z"
    }
   },
   "id": "5f0cd52ec33b552a"
  },
  {
   "cell_type": "code",
   "execution_count": 91,
   "outputs": [
    {
     "data": {
      "text/plain": "                 id first_name  last_name  age  is_smoker  is_sick\n0   absif2ccdiej3mn    Suzanne      Krieg   31      False        0\n1   lrqte8ct5gqa1yk    Charles  Gillespie   32      False        0\n2   00ll380zbrw5n99    Melynda       Holt   28      False        0\n3   6qui1e46i6mmzww         Jo     Wendte   32      False        0\n4   5mocwr0kioa70ai       Toni      Hisey   24       True        0\n..              ...        ...        ...  ...        ...      ...\n15  6wk41aum22g2vwn   Lawrence      Kruse   50       True        1\n16  hspgov89a4k3tfy      Maria   Hartmann   51      False        1\n17  8daz0eqk21y2foi    Rosella    Switzer   53      False        1\n18  b4twxi8j1f4lc8j       Neil    Gossett   46       True        1\n19  4hytmawq20dpt68        Ida     Chasse   40       True        1\n\n[100 rows x 6 columns]",
      "text/html": "<div>\n<style scoped>\n    .dataframe tbody tr th:only-of-type {\n        vertical-align: middle;\n    }\n\n    .dataframe tbody tr th {\n        vertical-align: top;\n    }\n\n    .dataframe thead th {\n        text-align: right;\n    }\n</style>\n<table border=\"1\" class=\"dataframe\">\n  <thead>\n    <tr style=\"text-align: right;\">\n      <th></th>\n      <th>id</th>\n      <th>first_name</th>\n      <th>last_name</th>\n      <th>age</th>\n      <th>is_smoker</th>\n      <th>is_sick</th>\n    </tr>\n  </thead>\n  <tbody>\n    <tr>\n      <th>0</th>\n      <td>absif2ccdiej3mn</td>\n      <td>Suzanne</td>\n      <td>Krieg</td>\n      <td>31</td>\n      <td>False</td>\n      <td>0</td>\n    </tr>\n    <tr>\n      <th>1</th>\n      <td>lrqte8ct5gqa1yk</td>\n      <td>Charles</td>\n      <td>Gillespie</td>\n      <td>32</td>\n      <td>False</td>\n      <td>0</td>\n    </tr>\n    <tr>\n      <th>2</th>\n      <td>00ll380zbrw5n99</td>\n      <td>Melynda</td>\n      <td>Holt</td>\n      <td>28</td>\n      <td>False</td>\n      <td>0</td>\n    </tr>\n    <tr>\n      <th>3</th>\n      <td>6qui1e46i6mmzww</td>\n      <td>Jo</td>\n      <td>Wendte</td>\n      <td>32</td>\n      <td>False</td>\n      <td>0</td>\n    </tr>\n    <tr>\n      <th>4</th>\n      <td>5mocwr0kioa70ai</td>\n      <td>Toni</td>\n      <td>Hisey</td>\n      <td>24</td>\n      <td>True</td>\n      <td>0</td>\n    </tr>\n    <tr>\n      <th>...</th>\n      <td>...</td>\n      <td>...</td>\n      <td>...</td>\n      <td>...</td>\n      <td>...</td>\n      <td>...</td>\n    </tr>\n    <tr>\n      <th>15</th>\n      <td>6wk41aum22g2vwn</td>\n      <td>Lawrence</td>\n      <td>Kruse</td>\n      <td>50</td>\n      <td>True</td>\n      <td>1</td>\n    </tr>\n    <tr>\n      <th>16</th>\n      <td>hspgov89a4k3tfy</td>\n      <td>Maria</td>\n      <td>Hartmann</td>\n      <td>51</td>\n      <td>False</td>\n      <td>1</td>\n    </tr>\n    <tr>\n      <th>17</th>\n      <td>8daz0eqk21y2foi</td>\n      <td>Rosella</td>\n      <td>Switzer</td>\n      <td>53</td>\n      <td>False</td>\n      <td>1</td>\n    </tr>\n    <tr>\n      <th>18</th>\n      <td>b4twxi8j1f4lc8j</td>\n      <td>Neil</td>\n      <td>Gossett</td>\n      <td>46</td>\n      <td>True</td>\n      <td>1</td>\n    </tr>\n    <tr>\n      <th>19</th>\n      <td>4hytmawq20dpt68</td>\n      <td>Ida</td>\n      <td>Chasse</td>\n      <td>40</td>\n      <td>True</td>\n      <td>1</td>\n    </tr>\n  </tbody>\n</table>\n<p>100 rows × 6 columns</p>\n</div>"
     },
     "execution_count": 91,
     "metadata": {},
     "output_type": "execute_result"
    }
   ],
   "source": [
    "# Get the union of the two dfs\n",
    "df = pd.concat([healthy_df, sick_df])\n",
    "df"
   ],
   "metadata": {
    "collapsed": false,
    "ExecuteTime": {
     "end_time": "2023-09-28T19:48:00.229486Z",
     "start_time": "2023-09-28T19:48:00.192322Z"
    }
   },
   "id": "7a7922398ed6d700"
  },
  {
   "cell_type": "code",
   "execution_count": 106,
   "outputs": [],
   "source": [
    "# Assert that id column is unique\n",
    "unique_id = df.groupby(\"id\").agg(id_count=(\"id\", \"count\"))\n",
    "unique_counts = unique_id[\"id_count\"].unique()\n",
    "assert unique_counts == 1"
   ],
   "metadata": {
    "collapsed": false,
    "ExecuteTime": {
     "end_time": "2023-09-28T19:52:25.562452Z",
     "start_time": "2023-09-28T19:52:25.556722Z"
    }
   },
   "id": "2319d8627c907015"
  },
  {
   "cell_type": "code",
   "execution_count": 105,
   "outputs": [
    {
     "data": {
      "text/plain": "array([ True])"
     },
     "execution_count": 105,
     "metadata": {},
     "output_type": "execute_result"
    }
   ],
   "source": [
    "# Show checklist of all diagnostics to run\n",
    "# if run all diagnostics, show checklist with fail, pass, NA\n",
    "# Create df cleaning class with diagnostics functions to check and fix a number of common df issues\n",
    "# 1 are there spaces in the column names? \n",
    "# is the id column overall unique? OR\n",
    "### is the id column not unique, but still a unique identifier?\n",
    "#### function to create hash fix for non-uniqueness\n",
    "# Is the id column non-sequential?\n",
    "## function to generate new non-sequential identifier column\n",
    "# are there duplicate entries?\n",
    "# is there a currency in this dataset?\n",
    "## is it int type?\n",
    "###function to convert currency to int type\n"
   ],
   "metadata": {
    "collapsed": false,
    "ExecuteTime": {
     "end_time": "2023-09-28T19:52:18.272511Z",
     "start_time": "2023-09-28T19:52:18.257995Z"
    }
   },
   "id": "e68343ddf6282e7e"
  },
  {
   "cell_type": "code",
   "execution_count": 107,
   "outputs": [],
   "source": [
    "# create a regression function to give all the output you like"
   ],
   "metadata": {
    "collapsed": false,
    "ExecuteTime": {
     "end_time": "2023-09-28T20:11:16.570227Z",
     "start_time": "2023-09-28T20:11:16.552933Z"
    }
   },
   "id": "bae4439f7e4896ca"
  },
  {
   "cell_type": "code",
   "execution_count": 108,
   "outputs": [],
   "source": [
    "# regress sick with age and smoker"
   ],
   "metadata": {
    "collapsed": false,
    "ExecuteTime": {
     "end_time": "2023-09-28T20:11:36.527633Z",
     "start_time": "2023-09-28T20:11:36.514808Z"
    }
   },
   "id": "51e59d0703775acb"
  },
  {
   "cell_type": "code",
   "execution_count": 109,
   "outputs": [],
   "source": [
    "# diff of two means age for sick and non-sick"
   ],
   "metadata": {
    "collapsed": false,
    "ExecuteTime": {
     "end_time": "2023-09-28T20:12:03.855118Z",
     "start_time": "2023-09-28T20:12:03.835795Z"
    }
   },
   "id": "a81deff069b3ebc0"
  },
  {
   "cell_type": "code",
   "execution_count": null,
   "outputs": [],
   "source": [],
   "metadata": {
    "collapsed": false
   },
   "id": "523e59574526fdf1"
  }
 ],
 "metadata": {
  "kernelspec": {
   "display_name": "Python 3",
   "language": "python",
   "name": "python3"
  },
  "language_info": {
   "codemirror_mode": {
    "name": "ipython",
    "version": 2
   },
   "file_extension": ".py",
   "mimetype": "text/x-python",
   "name": "python",
   "nbconvert_exporter": "python",
   "pygments_lexer": "ipython2",
   "version": "2.7.6"
  }
 },
 "nbformat": 4,
 "nbformat_minor": 5
}
